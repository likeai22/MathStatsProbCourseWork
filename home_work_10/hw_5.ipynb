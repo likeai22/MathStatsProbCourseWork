{
 "cells": [
  {
   "metadata": {},
   "cell_type": "markdown",
   "source": [
    "Есть ли статистически значимые различия в росте дочерей? \n",
    "- Рост матерей: 172, 177, 158, 170, 178,175, 164, 160, 169, 165 \n",
    "- Рост взрослых дочерей: 173, 175, 162, 174, 175, 168, 155, 170, 160"
   ],
   "id": "32086aacd7f71fc9"
  },
  {
   "cell_type": "code",
   "id": "initial_id",
   "metadata": {
    "collapsed": true,
    "ExecuteTime": {
     "end_time": "2025-02-03T21:56:08.607566Z",
     "start_time": "2025-02-03T21:55:59.741890Z"
    }
   },
   "source": "import scipy.stats as stats",
   "outputs": [],
   "execution_count": 1
  },
  {
   "metadata": {
    "ExecuteTime": {
     "end_time": "2025-02-03T21:56:08.622012Z",
     "start_time": "2025-02-03T21:56:08.611530Z"
    }
   },
   "cell_type": "code",
   "source": [
    "# Данные\n",
    "mothers_heights = [172, 177, 158, 170, 178, 175, 164, 160, 169, 165]\n",
    "daughters_heights = [173, 175, 162, 174, 175, 168, 155, 170, 160]\n",
    "\n",
    "# t-тест Стьюдента для независимых выборок\n",
    "t_stat, p_value = stats.ttest_ind(mothers_heights, daughters_heights, equal_var=True)\n",
    "\n",
    "print(f\"t-статистика: {t_stat}\")\n",
    "print(f\"p-значение: {p_value}\")\n"
   ],
   "id": "91835926c8d75e44",
   "outputs": [
    {
     "name": "stdout",
     "output_type": "stream",
     "text": [
      "t-статистика: 0.24400587215969016\n",
      "p-значение: 0.8101467126543233\n"
     ]
    }
   ],
   "execution_count": 2
  }
 ],
 "metadata": {
  "kernelspec": {
   "display_name": "Python 3",
   "language": "python",
   "name": "python3"
  },
  "language_info": {
   "codemirror_mode": {
    "name": "ipython",
    "version": 2
   },
   "file_extension": ".py",
   "mimetype": "text/x-python",
   "name": "python",
   "nbconvert_exporter": "python",
   "pygments_lexer": "ipython2",
   "version": "2.7.6"
  }
 },
 "nbformat": 4,
 "nbformat_minor": 5
}
